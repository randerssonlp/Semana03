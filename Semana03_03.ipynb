{
  "nbformat": 4,
  "nbformat_minor": 0,
  "metadata": {
    "colab": {
      "provenance": []
    },
    "kernelspec": {
      "name": "python3",
      "display_name": "Python 3"
    },
    "language_info": {
      "name": "python"
    }
  },
  "cells": [
    {
      "cell_type": "code",
      "execution_count": null,
      "metadata": {
        "id": "V8hTGOvC3WZS"
      },
      "outputs": [],
      "source": []
    },
    {
      "cell_type": "markdown",
      "source": [
        "Semana 03\n",
        "\n",
        "Raúl Andersson López Puris"
      ],
      "metadata": {
        "id": "Z7ISj2qX3ZnY"
      }
    },
    {
      "cell_type": "code",
      "source": [],
      "metadata": {
        "id": "9KivfSN33aPI"
      },
      "execution_count": null,
      "outputs": []
    },
    {
      "cell_type": "markdown",
      "source": [
        "Temas:\n",
        "1.   Números\n",
        "2.   Variables\n",
        "3.   Manejo de cadenas\n",
        "4.   Ingreso por el teclado\n",
        "5.   Operadores"
      ],
      "metadata": {
        "id": "dv9UXQH53f_g"
      }
    },
    {
      "cell_type": "markdown",
      "source": [
        "3.   Manejo de cadenas"
      ],
      "metadata": {
        "id": "4SERLW5c3k1w"
      }
    },
    {
      "cell_type": "code",
      "source": [
        "cadena=\"Universidad Nacional Tecnologica de Lima Sur\"\n"
      ],
      "metadata": {
        "id": "7evSU7hV3lOo"
      },
      "execution_count": 1,
      "outputs": []
    },
    {
      "cell_type": "code",
      "source": [
        "cadena [21]"
      ],
      "metadata": {
        "colab": {
          "base_uri": "https://localhost:8080/",
          "height": 35
        },
        "id": "y5_J3UrI4INI",
        "outputId": "961a5135-6d36-4f67-81d8-9058df4e92e8"
      },
      "execution_count": 2,
      "outputs": [
        {
          "output_type": "execute_result",
          "data": {
            "text/plain": [
              "'T'"
            ],
            "application/vnd.google.colaboratory.intrinsic+json": {
              "type": "string"
            }
          },
          "metadata": {},
          "execution_count": 2
        }
      ]
    },
    {
      "cell_type": "code",
      "source": [
        "#También lo puedo mostrar accediendo de manera inversa\n",
        "cadena [-23]"
      ],
      "metadata": {
        "colab": {
          "base_uri": "https://localhost:8080/",
          "height": 35
        },
        "id": "mm8pNVbK4RUo",
        "outputId": "cf3b65ea-ceaa-4397-f21d-d1b39249d511"
      },
      "execution_count": 3,
      "outputs": [
        {
          "output_type": "execute_result",
          "data": {
            "text/plain": [
              "'T'"
            ],
            "application/vnd.google.colaboratory.intrinsic+json": {
              "type": "string"
            }
          },
          "metadata": {},
          "execution_count": 3
        }
      ]
    },
    {
      "cell_type": "code",
      "source": [
        "#Para mostrar una subcadena [desde, hasta una antes]\n",
        "#En java era substring()\n",
        "cadena [3:8]"
      ],
      "metadata": {
        "colab": {
          "base_uri": "https://localhost:8080/",
          "height": 35
        },
        "id": "gRmjbMAX4Ugo",
        "outputId": "9d521b1a-a596-40c0-951d-42bedd76eed0"
      },
      "execution_count": 4,
      "outputs": [
        {
          "output_type": "execute_result",
          "data": {
            "text/plain": [
              "'versi'"
            ],
            "application/vnd.google.colaboratory.intrinsic+json": {
              "type": "string"
            }
          },
          "metadata": {},
          "execution_count": 4
        }
      ]
    },
    {
      "cell_type": "code",
      "source": [
        "#Para saber el tamaño de una caden utilizamos len()\n",
        "#In"
      ],
      "metadata": {
        "id": "QA0wkk-s41Ax"
      },
      "execution_count": 5,
      "outputs": []
    },
    {
      "cell_type": "code",
      "source": [
        "#Para mostrar un cena en mayúscula utlizamos upper()\n",
        "cadena.upper()"
      ],
      "metadata": {
        "colab": {
          "base_uri": "https://localhost:8080/",
          "height": 35
        },
        "id": "Re19vbEW48aI",
        "outputId": "5c6102be-c082-4686-c16e-172741ce179b"
      },
      "execution_count": 6,
      "outputs": [
        {
          "output_type": "execute_result",
          "data": {
            "text/plain": [
              "'UNIVERSIDAD NACIONAL TECNOLOGICA DE LIMA SUR'"
            ],
            "application/vnd.google.colaboratory.intrinsic+json": {
              "type": "string"
            }
          },
          "metadata": {},
          "execution_count": 6
        }
      ]
    },
    {
      "cell_type": "code",
      "source": [
        "#Ojo... Solo lo muestram porque el original\n",
        "cadena"
      ],
      "metadata": {
        "colab": {
          "base_uri": "https://localhost:8080/",
          "height": 35
        },
        "id": "-FPshdRr5DEQ",
        "outputId": "b0e63cb2-61a6-4f10-d904-7acd39b7092e"
      },
      "execution_count": 7,
      "outputs": [
        {
          "output_type": "execute_result",
          "data": {
            "text/plain": [
              "'Universidad Nacional Tecnologica de Lima Sur'"
            ],
            "application/vnd.google.colaboratory.intrinsic+json": {
              "type": "string"
            }
          },
          "metadata": {},
          "execution_count": 7
        }
      ]
    },
    {
      "cell_type": "code",
      "source": [
        "#Para mostrar un cadena en minúscula utlizamos lower()\n",
        "cadena.lower()"
      ],
      "metadata": {
        "colab": {
          "base_uri": "https://localhost:8080/",
          "height": 35
        },
        "id": "sivvvIV45MhY",
        "outputId": "e5be43ea-216d-410e-dfdc-2c570a662b78"
      },
      "execution_count": 9,
      "outputs": [
        {
          "output_type": "execute_result",
          "data": {
            "text/plain": [
              "'universidad nacional tecnologica de lima sur'"
            ],
            "application/vnd.google.colaboratory.intrinsic+json": {
              "type": "string"
            }
          },
          "metadata": {},
          "execution_count": 9
        }
      ]
    },
    {
      "cell_type": "code",
      "source": [
        "#Generar una lista a partir de una cadena.split()\n",
        "cadena.split()"
      ],
      "metadata": {
        "colab": {
          "base_uri": "https://localhost:8080/"
        },
        "id": "AUiBtdUP5TU_",
        "outputId": "c3a0abb9-0f95-433e-c131-df5ca4c02d44"
      },
      "execution_count": 10,
      "outputs": [
        {
          "output_type": "execute_result",
          "data": {
            "text/plain": [
              "['Universidad', 'Nacional', 'Tecnologica', 'de', 'Lima', 'Sur']"
            ]
          },
          "metadata": {},
          "execution_count": 10
        }
      ]
    },
    {
      "cell_type": "code",
      "source": [
        "cadena.split(\"n\")"
      ],
      "metadata": {
        "colab": {
          "base_uri": "https://localhost:8080/"
        },
        "id": "T17eN5-F5atH",
        "outputId": "fde4d589-34c0-4c0b-eeb3-d08f88d61123"
      },
      "execution_count": 14,
      "outputs": [
        {
          "output_type": "execute_result",
          "data": {
            "text/plain": [
              "['U', 'iversidad Nacio', 'al Tec', 'ologica de Lima Sur']"
            ]
          },
          "metadata": {},
          "execution_count": 14
        }
      ]
    },
    {
      "cell_type": "code",
      "source": [
        "#Forma clásica, concatenar con+\n",
        "nombre=\"Andersson López\"\n",
        "print(\"Buenos días, \"+nombre)"
      ],
      "metadata": {
        "colab": {
          "base_uri": "https://localhost:8080/"
        },
        "id": "jFndEOAD5hwH",
        "outputId": "a5b21828-8100-4f26-9944-3f3ddf2604bf"
      },
      "execution_count": 17,
      "outputs": [
        {
          "output_type": "stream",
          "name": "stdout",
          "text": [
            "Buenos días, Andersson López\n"
          ]
        }
      ]
    },
    {
      "cell_type": "code",
      "source": [
        "#Tulizado el .format()\n",
        "nombre=\"Pablo Lévano\"\n",
        "edad=10\n",
        "print(\"hola {} ya se que tienes {} años\".format(nombre, edad))"
      ],
      "metadata": {
        "colab": {
          "base_uri": "https://localhost:8080/"
        },
        "id": "Kdx9Oqo_55B3",
        "outputId": "f084bbf4-bd3c-4c18-a32a-f6a7ab22eff2"
      },
      "execution_count": 18,
      "outputs": [
        {
          "output_type": "stream",
          "name": "stdout",
          "text": [
            "hola Pablo Lévano ya se que tienes 10 años\n"
          ]
        }
      ]
    },
    {
      "cell_type": "code",
      "source": [
        "#Dar formato a números con muchos decimales\n",
        "resultado=10/3\n",
        "print(\"10/3={}\".format(resultado))\n",
        "print(\"10/3 es={r:1.3f}\".format(r=resultado))"
      ],
      "metadata": {
        "colab": {
          "base_uri": "https://localhost:8080/"
        },
        "id": "8d0hqYtS6Swn",
        "outputId": "0941468b-29b9-4bde-d878-da68a69600ce"
      },
      "execution_count": 19,
      "outputs": [
        {
          "output_type": "stream",
          "name": "stdout",
          "text": [
            "10/3=3.3333333333333335\n",
            "10/3 es=3.333\n"
          ]
        }
      ]
    },
    {
      "cell_type": "code",
      "source": [
        "#Dar formato con f\n",
        "#La función f, está disponible desde la versión 3.6\n",
        "nombre=\"Daneli Levano\"\n",
        "edad=8\n",
        "print(f\"buenos días {nombre}, ya se que tienes {edad} años\")"
      ],
      "metadata": {
        "colab": {
          "base_uri": "https://localhost:8080/"
        },
        "id": "4XCDii9C7HRA",
        "outputId": "f5e5bb8d-1643-41a7-ca91-28c3b1440937"
      },
      "execution_count": 21,
      "outputs": [
        {
          "output_type": "stream",
          "name": "stdout",
          "text": [
            "buenos días Daneli Levano, ya se que tienes 8 años\n"
          ]
        }
      ]
    },
    {
      "cell_type": "code",
      "source": [],
      "metadata": {
        "id": "4pFjcY1K7e_v"
      },
      "execution_count": null,
      "outputs": []
    }
  ]
}