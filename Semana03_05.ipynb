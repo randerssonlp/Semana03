{
  "nbformat": 4,
  "nbformat_minor": 0,
  "metadata": {
    "colab": {
      "provenance": []
    },
    "kernelspec": {
      "name": "python3",
      "display_name": "Python 3"
    },
    "language_info": {
      "name": "python"
    }
  },
  "cells": [
    {
      "cell_type": "markdown",
      "source": [
        "Semana 03\n",
        "\n",
        "Raúl Andersson López Puris"
      ],
      "metadata": {
        "id": "vHodcGCO_Bo_"
      }
    },
    {
      "cell_type": "markdown",
      "source": [
        "Temas:\n",
        "1.   Números\n",
        "2.   Variables\n",
        "3.   Manejo de cadenas\n",
        "4.   Ingreso por el teclado\n",
        "5.   Operadores\n"
      ],
      "metadata": {
        "id": "kyUq32HX_Co-"
      }
    },
    {
      "cell_type": "markdown",
      "source": [
        "5.   Operadores\n",
        "\n"
      ],
      "metadata": {
        "id": "ztVtEF9-_KT_"
      }
    },
    {
      "cell_type": "code",
      "source": [
        "#5.1 Operdores aritméticos\n",
        "#Se tiene: +, -, *, /, **, %, //"
      ],
      "metadata": {
        "id": "9aT5ds5m_Mge"
      },
      "execution_count": null,
      "outputs": []
    },
    {
      "cell_type": "code",
      "source": [
        "numero1=10\n",
        "numero2=3\n",
        "suma=numero1+numero2\n",
        "resta=numero1-numero2\n",
        "multiplicacion=numero1*numero2\n",
        "division=numero1/numero2\n",
        "residuo=numero1%numero2\n",
        "cociente=numero1//numero2"
      ],
      "metadata": {
        "id": "cUV2M3nBAL1u"
      },
      "execution_count": null,
      "outputs": []
    },
    {
      "cell_type": "code",
      "source": [
        "numero=5\n",
        "numero=numero**3\n",
        "print(numero)"
      ],
      "metadata": {
        "id": "9hdon0J8Acte",
        "colab": {
          "base_uri": "https://localhost:8080/"
        },
        "outputId": "b004c5b1-7724-4f25-8884-4eb953ab7100"
      },
      "execution_count": 4,
      "outputs": [
        {
          "output_type": "stream",
          "name": "stdout",
          "text": [
            "125\n"
          ]
        }
      ]
    },
    {
      "cell_type": "code",
      "source": [
        "numero=5\n",
        "numero**=3\n",
        "print(numero)"
      ],
      "metadata": {
        "colab": {
          "base_uri": "https://localhost:8080/"
        },
        "id": "lg31AcgMDKIf",
        "outputId": "23ab3d7d-722c-45c7-8407-949c1d540b8a"
      },
      "execution_count": 5,
      "outputs": [
        {
          "output_type": "stream",
          "name": "stdout",
          "text": [
            "125\n"
          ]
        }
      ]
    },
    {
      "cell_type": "code",
      "source": [
        "numero1=5\n",
        "numero2=2\n",
        "numero1==numero2"
      ],
      "metadata": {
        "colab": {
          "base_uri": "https://localhost:8080/"
        },
        "id": "gzU01go2DOvu",
        "outputId": "748ab65d-4044-4036-a915-ea41a23c37fe"
      },
      "execution_count": 6,
      "outputs": [
        {
          "output_type": "execute_result",
          "data": {
            "text/plain": [
              "False"
            ]
          },
          "metadata": {},
          "execution_count": 6
        }
      ]
    },
    {
      "cell_type": "code",
      "source": [
        "aula=[\"Juan\", \"Daniel\", \"Ruben\"]\n",
        "alumno1=\"Diego\"\n",
        "alumno2=\"Juan\""
      ],
      "metadata": {
        "id": "oHn2UAhQEOBn"
      },
      "execution_count": 10,
      "outputs": []
    },
    {
      "cell_type": "code",
      "source": [
        "alumno1 not in aula"
      ],
      "metadata": {
        "colab": {
          "base_uri": "https://localhost:8080/"
        },
        "id": "gDDi5gwjFK5u",
        "outputId": "b6641e4a-293c-43b5-b512-bf3f49463362"
      },
      "execution_count": 11,
      "outputs": [
        {
          "output_type": "execute_result",
          "data": {
            "text/plain": [
              "True"
            ]
          },
          "metadata": {},
          "execution_count": 11
        }
      ]
    },
    {
      "cell_type": "code",
      "source": [
        "aula1=[\"Juan\", \"Daniel\", \"Ruben\"]\n",
        "aula2=[\"Juan\", \"Daniel\", \"Ruben\"]\n",
        "#A continuación vamos\n",
        "aula3=aula1"
      ],
      "metadata": {
        "id": "AjW753bDFyjl"
      },
      "execution_count": 12,
      "outputs": []
    },
    {
      "cell_type": "code",
      "source": [
        "#¿aula3 comparte el mismo objeto que aula1?\n",
        "aula3 is aula1"
      ],
      "metadata": {
        "colab": {
          "base_uri": "https://localhost:8080/"
        },
        "id": "JIO4zf4YGHqV",
        "outputId": "868cb45f-a852-4f8b-e861-662851a537ce"
      },
      "execution_count": 13,
      "outputs": [
        {
          "output_type": "execute_result",
          "data": {
            "text/plain": [
              "True"
            ]
          },
          "metadata": {},
          "execution_count": 13
        }
      ]
    },
    {
      "cell_type": "code",
      "source": [
        "aula3 is aula2"
      ],
      "metadata": {
        "colab": {
          "base_uri": "https://localhost:8080/"
        },
        "id": "bKr8zAVmGaDm",
        "outputId": "2fdd3b85-8271-4c88-abb2-266cf5dcd08d"
      },
      "execution_count": 14,
      "outputs": [
        {
          "output_type": "execute_result",
          "data": {
            "text/plain": [
              "False"
            ]
          },
          "metadata": {},
          "execution_count": 14
        }
      ]
    },
    {
      "cell_type": "code",
      "source": [
        "aula2 is aula1"
      ],
      "metadata": {
        "colab": {
          "base_uri": "https://localhost:8080/"
        },
        "id": "rDMTMgBsGdsN",
        "outputId": "135aef90-262d-42c2-d897-6a39ee9b0abd"
      },
      "execution_count": 15,
      "outputs": [
        {
          "output_type": "execute_result",
          "data": {
            "text/plain": [
              "False"
            ]
          },
          "metadata": {},
          "execution_count": 15
        }
      ]
    },
    {
      "cell_type": "code",
      "source": [
        "aula1.append(\"Diego\")"
      ],
      "metadata": {
        "id": "i-f_SI6VGhY9"
      },
      "execution_count": 16,
      "outputs": []
    },
    {
      "cell_type": "code",
      "source": [
        "#Al imprimir los elementos de la lista aula1 se observa\n",
        "print(aula1)"
      ],
      "metadata": {
        "colab": {
          "base_uri": "https://localhost:8080/"
        },
        "id": "_7o0TlWsGk-l",
        "outputId": "d86322a8-3136-4305-b5b8-7c10312ec8a5"
      },
      "execution_count": 17,
      "outputs": [
        {
          "output_type": "stream",
          "name": "stdout",
          "text": [
            "['Juan', 'Daniel', 'Ruben', 'Diego']\n"
          ]
        }
      ]
    },
    {
      "cell_type": "code",
      "source": [],
      "metadata": {
        "id": "tvpnMKz6Go7V"
      },
      "execution_count": null,
      "outputs": []
    }
  ]
}