{
  "nbformat": 4,
  "nbformat_minor": 0,
  "metadata": {
    "colab": {
      "provenance": []
    },
    "kernelspec": {
      "name": "python3",
      "display_name": "Python 3"
    },
    "language_info": {
      "name": "python"
    }
  },
  "cells": [
    {
      "cell_type": "markdown",
      "source": [
        "Semana 03\n",
        "> Raúl Andersson López Puris\n"
      ],
      "metadata": {
        "id": "lOwwEv1x0HLp"
      }
    },
    {
      "cell_type": "markdown",
      "source": [
        "Temas:\n",
        "1.   Números\n",
        "2.   Variables\n",
        "3.   Manejo de cadenas\n",
        "4.   Ingreso por el teclado\n",
        "5.   Operadores"
      ],
      "metadata": {
        "id": "1NwulZjM0KGB"
      }
    },
    {
      "cell_type": "markdown",
      "source": [
        "2. Variables"
      ],
      "metadata": {
        "id": "OlUbQ9kt0NBw"
      }
    },
    {
      "cell_type": "markdown",
      "source": [
        "Siempre deben iniciar con una letra o un guión abajo. (Nunca con un número)"
      ],
      "metadata": {
        "id": "lTiQ1-uF0XBZ"
      }
    },
    {
      "cell_type": "code",
      "source": [
        "edad=41"
      ],
      "metadata": {
        "id": "DDWXfMoG0cBo"
      },
      "execution_count": null,
      "outputs": []
    },
    {
      "cell_type": "code",
      "source": [
        "edad\n"
      ],
      "metadata": {
        "colab": {
          "base_uri": "https://localhost:8080/"
        },
        "id": "z7AKqzJo0evw",
        "outputId": "cb7ae2f0-75e2-45a3-bfc1-7fce10b258d6"
      },
      "execution_count": null,
      "outputs": [
        {
          "output_type": "execute_result",
          "data": {
            "text/plain": [
              "41"
            ]
          },
          "metadata": {},
          "execution_count": 4
        }
      ]
    },
    {
      "cell_type": "code",
      "source": [
        "nombre=\"Raúl Andersson\""
      ],
      "metadata": {
        "id": "i69AvYJj0kHA"
      },
      "execution_count": null,
      "outputs": []
    },
    {
      "cell_type": "code",
      "source": [
        "nombre"
      ],
      "metadata": {
        "colab": {
          "base_uri": "https://localhost:8080/",
          "height": 35
        },
        "id": "7uX2HGzU0lzo",
        "outputId": "c9d3afd7-2ad4-4b45-e21d-b59937bb2883"
      },
      "execution_count": null,
      "outputs": [
        {
          "output_type": "execute_result",
          "data": {
            "text/plain": [
              "'Raúl Andersson'"
            ],
            "application/vnd.google.colaboratory.intrinsic+json": {
              "type": "string"
            }
          },
          "metadata": {},
          "execution_count": 19
        }
      ]
    },
    {
      "cell_type": "code",
      "source": [
        "apellido=\"López Puris\""
      ],
      "metadata": {
        "id": "4I3fTrI60oQA"
      },
      "execution_count": null,
      "outputs": []
    },
    {
      "cell_type": "code",
      "source": [
        "apellido\n"
      ],
      "metadata": {
        "colab": {
          "base_uri": "https://localhost:8080/",
          "height": 35
        },
        "id": "UXfpFeCf05pq",
        "outputId": "02be82ea-86bc-40d5-d9f5-d84ce0873f33"
      },
      "execution_count": null,
      "outputs": [
        {
          "output_type": "execute_result",
          "data": {
            "text/plain": [
              "'López Puris'"
            ],
            "application/vnd.google.colaboratory.intrinsic+json": {
              "type": "string"
            }
          },
          "metadata": {},
          "execution_count": 8
        }
      ]
    },
    {
      "cell_type": "code",
      "source": [
        "nombrecompleto=nombre+apellido"
      ],
      "metadata": {
        "id": "GCbgEIsX06g6"
      },
      "execution_count": null,
      "outputs": []
    },
    {
      "cell_type": "code",
      "source": [
        "nombrecompleto\n"
      ],
      "metadata": {
        "colab": {
          "base_uri": "https://localhost:8080/",
          "height": 35
        },
        "id": "4E5QeEYp1RtY",
        "outputId": "524421a8-d85b-491a-8bdf-e2bb414de00e"
      },
      "execution_count": null,
      "outputs": [
        {
          "output_type": "execute_result",
          "data": {
            "text/plain": [
              "'Raúl AnderssonLópez Puris'"
            ],
            "application/vnd.google.colaboratory.intrinsic+json": {
              "type": "string"
            }
          },
          "metadata": {},
          "execution_count": 21
        }
      ]
    },
    {
      "cell_type": "code",
      "source": [
        "nombrecompleto=nombre+\" \"+apellido"
      ],
      "metadata": {
        "id": "OZ14vJ_U1ldI"
      },
      "execution_count": null,
      "outputs": []
    },
    {
      "cell_type": "code",
      "source": [
        "nombrecompleto"
      ],
      "metadata": {
        "colab": {
          "base_uri": "https://localhost:8080/",
          "height": 35
        },
        "id": "gmiQyxfg1otx",
        "outputId": "3e59e7c1-5100-40a2-e819-54136e8fd072"
      },
      "execution_count": null,
      "outputs": [
        {
          "output_type": "execute_result",
          "data": {
            "text/plain": [
              "'Raúl Andersson López Puris'"
            ],
            "application/vnd.google.colaboratory.intrinsic+json": {
              "type": "string"
            }
          },
          "metadata": {},
          "execution_count": 23
        }
      ]
    },
    {
      "cell_type": "code",
      "source": [
        "#Para convertir un número en cadena utilizaremos str()\n",
        "numero=100\n",
        "cadena=str(numero)\n",
        "cadena"
      ],
      "metadata": {
        "colab": {
          "base_uri": "https://localhost:8080/",
          "height": 35
        },
        "id": "BhzeUo5l1p94",
        "outputId": "f887986c-d844-4294-c62a-a6d76fadf997"
      },
      "execution_count": null,
      "outputs": [
        {
          "output_type": "execute_result",
          "data": {
            "text/plain": [
              "'100'"
            ],
            "application/vnd.google.colaboratory.intrinsic+json": {
              "type": "string"
            }
          },
          "metadata": {},
          "execution_count": 24
        }
      ]
    },
    {
      "cell_type": "code",
      "source": [
        "type(cadena)"
      ],
      "metadata": {
        "colab": {
          "base_uri": "https://localhost:8080/"
        },
        "id": "juWNtgVw2IFo",
        "outputId": "1f86f0dd-74c8-4273-c4ff-2fd1626edf45"
      },
      "execution_count": null,
      "outputs": [
        {
          "output_type": "execute_result",
          "data": {
            "text/plain": [
              "str"
            ]
          },
          "metadata": {},
          "execution_count": 25
        }
      ]
    },
    {
      "cell_type": "code",
      "source": [
        "#Para convertir una cadena en un entero utilizamos int()\n",
        "cadena2=\"50\"\n",
        "numero2=int(cadena)\n",
        "numero2"
      ],
      "metadata": {
        "colab": {
          "base_uri": "https://localhost:8080/"
        },
        "id": "WL1oyFMz2byw",
        "outputId": "a923754e-c54a-42af-b2a4-8a67d24ff805"
      },
      "execution_count": null,
      "outputs": [
        {
          "output_type": "execute_result",
          "data": {
            "text/plain": [
              "100"
            ]
          },
          "metadata": {},
          "execution_count": 26
        }
      ]
    },
    {
      "cell_type": "code",
      "source": [
        "type(cadena)"
      ],
      "metadata": {
        "colab": {
          "base_uri": "https://localhost:8080/"
        },
        "id": "mEgWGOKB22AI",
        "outputId": "e56ed77d-5410-45f7-d488-c2657f09a193"
      },
      "execution_count": null,
      "outputs": [
        {
          "output_type": "execute_result",
          "data": {
            "text/plain": [
              "str"
            ]
          },
          "metadata": {},
          "execution_count": 27
        }
      ]
    },
    {
      "cell_type": "code",
      "source": [
        "#Para convertir una cadena en un entero utilizamos int()\n",
        "cadena2=\"50\"\n",
        "numero2=int(cadena)"
      ],
      "metadata": {
        "id": "t08k5WRG23NP"
      },
      "execution_count": null,
      "outputs": []
    }
  ]
}