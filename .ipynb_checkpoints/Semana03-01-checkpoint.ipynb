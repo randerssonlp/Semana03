{
 "cells": [
  {
   "cell_type": "markdown",
   "id": "1eee5e41",
   "metadata": {},
   "source": [
    "# Semana 03\n",
    "Raúl Andersson López Puris"
   ]
  },
  {
   "cell_type": "raw",
   "id": "e16971bc",
   "metadata": {},
   "source": [
    "Temas:\n",
    "    1. Números\n",
    "    2. Variables\n",
    "    3. Manejo de cadenas\n",
    "    4. Ingreso por el teclado\n",
    "    5. Operadores\n",
    "    "
   ]
  },
  {
   "cell_type": "markdown",
   "id": "17ec26ec",
   "metadata": {},
   "source": [
    "1. Números"
   ]
  },
  {
   "cell_type": "code",
   "execution_count": null,
   "id": "ef048d5d",
   "metadata": {},
   "outputs": [],
   "source": [
    "8+6\n"
   ]
  }
 ],
 "metadata": {
  "kernelspec": {
   "display_name": "Python 3 (ipykernel)",
   "language": "python",
   "name": "python3"
  },
  "language_info": {
   "codemirror_mode": {
    "name": "ipython",
    "version": 3
   },
   "file_extension": ".py",
   "mimetype": "text/x-python",
   "name": "python",
   "nbconvert_exporter": "python",
   "pygments_lexer": "ipython3",
   "version": "3.9.12"
  }
 },
 "nbformat": 4,
 "nbformat_minor": 5
}
