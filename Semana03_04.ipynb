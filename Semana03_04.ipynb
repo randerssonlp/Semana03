{
  "nbformat": 4,
  "nbformat_minor": 0,
  "metadata": {
    "colab": {
      "provenance": []
    },
    "kernelspec": {
      "name": "python3",
      "display_name": "Python 3"
    },
    "language_info": {
      "name": "python"
    }
  },
  "cells": [
    {
      "cell_type": "markdown",
      "source": [
        "Semana 03\n",
        "\n",
        "Raúl Andersson López Puris"
      ],
      "metadata": {
        "id": "f8gSM1Cv8iP4"
      }
    },
    {
      "cell_type": "markdown",
      "source": [
        "Temas:\n",
        "1.   Números\n",
        "2.   Variables\n",
        "3.   Manejo de cadenas\n",
        "4.   Ingreso por el teclado\n",
        "5.   Operadores"
      ],
      "metadata": {
        "id": "CE0Jwok08kh_"
      }
    },
    {
      "cell_type": "markdown",
      "source": [
        "3.   Ingreso de datos por el teclado\n"
      ],
      "metadata": {
        "id": "4R_I51sY8snP"
      }
    },
    {
      "cell_type": "code",
      "source": [
        "#Función input()\n",
        "print(\"¿Cuál es tu nombre?\")\n",
        "nombre=input()\n",
        "print(\"hola \"+nombre)"
      ],
      "metadata": {
        "colab": {
          "base_uri": "https://localhost:8080/"
        },
        "id": "Lpz_DO6m8s2H",
        "outputId": "4a18a656-d066-4656-edfd-7937efa49d50"
      },
      "execution_count": null,
      "outputs": [
        {
          "output_type": "stream",
          "name": "stdout",
          "text": [
            "¿Cuál es tu nombre?\n",
            "Andersson\n",
            "hola Andersson\n"
          ]
        }
      ]
    },
    {
      "cell_type": "code",
      "source": [
        "#Cuando ingresa un valor por teclado lo hace como cadena\n",
        "print(\"número 1: \")\n",
        "numero1=input()\n",
        "print(\"número 2: \")\n",
        "numero2=input()\n",
        "numero3=int(numero1)+int(numero2)\n",
        "print(f\"El resultado es {numero3}\")\n"
      ],
      "metadata": {
        "colab": {
          "base_uri": "https://localhost:8080/"
        },
        "id": "9Wm_n8299lBf",
        "outputId": "d7959a5c-3165-4bc7-8744-fc3505f6f0c1"
      },
      "execution_count": null,
      "outputs": [
        {
          "output_type": "stream",
          "name": "stdout",
          "text": [
            "número 1: \n",
            "2\n",
            "número 2: \n",
            "3\n",
            "El resultado es 5\n"
          ]
        }
      ]
    },
    {
      "cell_type": "code",
      "source": [],
      "metadata": {
        "id": "wf3lpx88-M8G"
      },
      "execution_count": null,
      "outputs": []
    }
  ]
}