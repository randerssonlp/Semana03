{
  "nbformat": 4,
  "nbformat_minor": 0,
  "metadata": {
    "colab": {
      "provenance": []
    },
    "kernelspec": {
      "name": "python3",
      "display_name": "Python 3"
    },
    "language_info": {
      "name": "python"
    }
  },
  "cells": [
    {
      "cell_type": "code",
      "execution_count": 1,
      "metadata": {
        "id": "8krQCsWXMe6J"
      },
      "outputs": [],
      "source": [
        "aula=['Figueroa', 'Garcia', 'Gutierrez', 'isla']"
      ]
    },
    {
      "cell_type": "code",
      "source": [
        "print(aula[0])\n",
        "print(aula[1])"
      ],
      "metadata": {
        "colab": {
          "base_uri": "https://localhost:8080/"
        },
        "id": "egcmDghUNI12",
        "outputId": "a9fc5b95-5b46-41e1-aae8-f2abefd96eec"
      },
      "execution_count": 2,
      "outputs": [
        {
          "output_type": "stream",
          "name": "stdout",
          "text": [
            "Figueroa\n",
            "Garcia\n"
          ]
        }
      ]
    },
    {
      "cell_type": "code",
      "source": [
        "aula[1]='López'\n",
        "aula[1]"
      ],
      "metadata": {
        "colab": {
          "base_uri": "https://localhost:8080/",
          "height": 35
        },
        "id": "KjvMSMYMNSzE",
        "outputId": "6c2e014f-8e65-4994-87ee-af39a35619a1"
      },
      "execution_count": 3,
      "outputs": [
        {
          "output_type": "execute_result",
          "data": {
            "text/plain": [
              "'López'"
            ],
            "application/vnd.google.colaboratory.intrinsic+json": {
              "type": "string"
            }
          },
          "metadata": {},
          "execution_count": 3
        }
      ]
    },
    {
      "cell_type": "code",
      "source": [
        "aula.append(\"Luque\")\n",
        "aula.append(\"Mamani\")\n",
        "aula"
      ],
      "metadata": {
        "colab": {
          "base_uri": "https://localhost:8080/"
        },
        "id": "4mpjm6twNS39",
        "outputId": "784b7f82-4f15-403a-c94c-890e682252e5"
      },
      "execution_count": 5,
      "outputs": [
        {
          "output_type": "execute_result",
          "data": {
            "text/plain": [
              "['Figueroa',\n",
              " 'López',\n",
              " 'Gutierrez',\n",
              " 'isla',\n",
              " 'Luque',\n",
              " 'Mamani',\n",
              " 'Luque',\n",
              " 'Mamani']"
            ]
          },
          "metadata": {},
          "execution_count": 5
        }
      ]
    },
    {
      "cell_type": "code",
      "source": [
        "aula.remove(\"Mamani\")"
      ],
      "metadata": {
        "id": "R_E4eKjEOfaV"
      },
      "execution_count": 16,
      "outputs": []
    },
    {
      "cell_type": "code",
      "source": [
        "for alumno in aula:\n",
        "    print(alumno)"
      ],
      "metadata": {
        "colab": {
          "base_uri": "https://localhost:8080/"
        },
        "id": "bdxiYu6uNs-M",
        "outputId": "f7f5c140-8d3b-47aa-f9cb-889af5d3383d"
      },
      "execution_count": 17,
      "outputs": [
        {
          "output_type": "stream",
          "name": "stdout",
          "text": [
            "Luque\n",
            "Mamani\n",
            "Luque\n",
            "isla\n",
            "Gutierrez\n",
            "López\n"
          ]
        }
      ]
    },
    {
      "cell_type": "code",
      "source": [
        "aula.reverse()\n",
        "aula"
      ],
      "metadata": {
        "colab": {
          "base_uri": "https://localhost:8080/"
        },
        "id": "3DZE_kT1N4gD",
        "outputId": "26af765e-755d-464e-ba10-c5cbf3dbe6fb"
      },
      "execution_count": 18,
      "outputs": [
        {
          "output_type": "execute_result",
          "data": {
            "text/plain": [
              "['López', 'Gutierrez', 'isla', 'Luque', 'Mamani', 'Luque']"
            ]
          },
          "metadata": {},
          "execution_count": 18
        }
      ]
    },
    {
      "cell_type": "code",
      "source": [
        "aula.sort()\n",
        "aula"
      ],
      "metadata": {
        "colab": {
          "base_uri": "https://localhost:8080/"
        },
        "id": "B4jtZoH5OsCE",
        "outputId": "8637d234-3bf6-4036-f8b1-17c3f191a9ec"
      },
      "execution_count": 19,
      "outputs": [
        {
          "output_type": "execute_result",
          "data": {
            "text/plain": [
              "['Gutierrez', 'Luque', 'Luque', 'López', 'Mamani', 'isla']"
            ]
          },
          "metadata": {},
          "execution_count": 19
        }
      ]
    }
  ]
}